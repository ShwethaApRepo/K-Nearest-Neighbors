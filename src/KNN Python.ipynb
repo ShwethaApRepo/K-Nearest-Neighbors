{
 "cells": [
  {
   "cell_type": "code",
   "execution_count": 92,
   "metadata": {},
   "outputs": [],
   "source": [
    "import math  \n",
    "import pandas as pd\n",
    "import numpy as np\n",
    "from sklearn.utils import shuffle\n",
    "from sklearn.model_selection import train_test_split\n",
    "from collections import OrderedDict, defaultdict"
   ]
  },
  {
   "cell_type": "code",
   "execution_count": 93,
   "metadata": {},
   "outputs": [
    {
     "data": {
      "text/html": [
       "<div>\n",
       "<style scoped>\n",
       "    .dataframe tbody tr th:only-of-type {\n",
       "        vertical-align: middle;\n",
       "    }\n",
       "\n",
       "    .dataframe tbody tr th {\n",
       "        vertical-align: top;\n",
       "    }\n",
       "\n",
       "    .dataframe thead th {\n",
       "        text-align: right;\n",
       "    }\n",
       "</style>\n",
       "<table border=\"1\" class=\"dataframe\">\n",
       "  <thead>\n",
       "    <tr style=\"text-align: right;\">\n",
       "      <th></th>\n",
       "      <th>sepal_length</th>\n",
       "      <th>sepal_width</th>\n",
       "      <th>petal_length</th>\n",
       "      <th>petal_width</th>\n",
       "      <th>class</th>\n",
       "    </tr>\n",
       "  </thead>\n",
       "  <tbody>\n",
       "    <tr>\n",
       "      <th>0</th>\n",
       "      <td>5.1</td>\n",
       "      <td>3.5</td>\n",
       "      <td>1.4</td>\n",
       "      <td>0.2</td>\n",
       "      <td>Setosa</td>\n",
       "    </tr>\n",
       "    <tr>\n",
       "      <th>1</th>\n",
       "      <td>4.9</td>\n",
       "      <td>3.0</td>\n",
       "      <td>1.4</td>\n",
       "      <td>0.2</td>\n",
       "      <td>Setosa</td>\n",
       "    </tr>\n",
       "    <tr>\n",
       "      <th>2</th>\n",
       "      <td>4.7</td>\n",
       "      <td>3.2</td>\n",
       "      <td>1.3</td>\n",
       "      <td>0.2</td>\n",
       "      <td>Setosa</td>\n",
       "    </tr>\n",
       "    <tr>\n",
       "      <th>3</th>\n",
       "      <td>4.6</td>\n",
       "      <td>3.1</td>\n",
       "      <td>1.5</td>\n",
       "      <td>0.2</td>\n",
       "      <td>Setosa</td>\n",
       "    </tr>\n",
       "    <tr>\n",
       "      <th>4</th>\n",
       "      <td>5.0</td>\n",
       "      <td>3.6</td>\n",
       "      <td>1.4</td>\n",
       "      <td>0.2</td>\n",
       "      <td>Setosa</td>\n",
       "    </tr>\n",
       "  </tbody>\n",
       "</table>\n",
       "</div>"
      ],
      "text/plain": [
       "   sepal_length  sepal_width  petal_length  petal_width   class\n",
       "0           5.1          3.5           1.4          0.2  Setosa\n",
       "1           4.9          3.0           1.4          0.2  Setosa\n",
       "2           4.7          3.2           1.3          0.2  Setosa\n",
       "3           4.6          3.1           1.5          0.2  Setosa\n",
       "4           5.0          3.6           1.4          0.2  Setosa"
      ]
     },
     "execution_count": 93,
     "metadata": {},
     "output_type": "execute_result"
    }
   ],
   "source": [
    "Colnames = [\"sepal_length\", \"sepal_width\", \"petal_length\", \"petal_width\", \"class\"] #Column names for the data set\n",
    "Data = pd.read_csv(\"iris.csv\", header=None, names=Colnames) #read data in dataframe\n",
    "Data.head()"
   ]
  },
  {
   "cell_type": "code",
   "execution_count": 94,
   "metadata": {},
   "outputs": [
    {
     "data": {
      "text/html": [
       "<div>\n",
       "<style scoped>\n",
       "    .dataframe tbody tr th:only-of-type {\n",
       "        vertical-align: middle;\n",
       "    }\n",
       "\n",
       "    .dataframe tbody tr th {\n",
       "        vertical-align: top;\n",
       "    }\n",
       "\n",
       "    .dataframe thead th {\n",
       "        text-align: right;\n",
       "    }\n",
       "</style>\n",
       "<table border=\"1\" class=\"dataframe\">\n",
       "  <thead>\n",
       "    <tr style=\"text-align: right;\">\n",
       "      <th></th>\n",
       "      <th>sepal_length</th>\n",
       "      <th>sepal_width</th>\n",
       "      <th>petal_length</th>\n",
       "      <th>petal_width</th>\n",
       "      <th>class</th>\n",
       "    </tr>\n",
       "  </thead>\n",
       "  <tbody>\n",
       "    <tr>\n",
       "      <th>131</th>\n",
       "      <td>7.9</td>\n",
       "      <td>3.8</td>\n",
       "      <td>6.4</td>\n",
       "      <td>2.0</td>\n",
       "      <td>Virginica</td>\n",
       "    </tr>\n",
       "    <tr>\n",
       "      <th>82</th>\n",
       "      <td>5.8</td>\n",
       "      <td>2.7</td>\n",
       "      <td>3.9</td>\n",
       "      <td>1.2</td>\n",
       "      <td>Versicolor</td>\n",
       "    </tr>\n",
       "    <tr>\n",
       "      <th>113</th>\n",
       "      <td>5.7</td>\n",
       "      <td>2.5</td>\n",
       "      <td>5.0</td>\n",
       "      <td>2.0</td>\n",
       "      <td>Virginica</td>\n",
       "    </tr>\n",
       "    <tr>\n",
       "      <th>9</th>\n",
       "      <td>4.9</td>\n",
       "      <td>3.1</td>\n",
       "      <td>1.5</td>\n",
       "      <td>0.1</td>\n",
       "      <td>Setosa</td>\n",
       "    </tr>\n",
       "    <tr>\n",
       "      <th>8</th>\n",
       "      <td>4.4</td>\n",
       "      <td>2.9</td>\n",
       "      <td>1.4</td>\n",
       "      <td>0.2</td>\n",
       "      <td>Setosa</td>\n",
       "    </tr>\n",
       "  </tbody>\n",
       "</table>\n",
       "</div>"
      ],
      "text/plain": [
       "     sepal_length  sepal_width  petal_length  petal_width       class\n",
       "131           7.9          3.8           6.4          2.0   Virginica\n",
       "82            5.8          2.7           3.9          1.2  Versicolor\n",
       "113           5.7          2.5           5.0          2.0   Virginica\n",
       "9             4.9          3.1           1.5          0.1      Setosa\n",
       "8             4.4          2.9           1.4          0.2      Setosa"
      ]
     },
     "execution_count": 94,
     "metadata": {},
     "output_type": "execute_result"
    }
   ],
   "source": [
    "Data = shuffle(Data) #shuffle data as the data set is ordered\n",
    "Data.head()"
   ]
  },
  {
   "cell_type": "code",
   "execution_count": 95,
   "metadata": {},
   "outputs": [],
   "source": [
    "train, test = train_test_split(Data, test_size=0.2) #split whole dataframe into random test and train sets"
   ]
  },
  {
   "cell_type": "code",
   "execution_count": 96,
   "metadata": {},
   "outputs": [],
   "source": [
    "def calculateDist(testFeture,trainRec):\n",
    "    var=0\n",
    "    x=testFeture.values #create array of values from series type\n",
    "    y=trainRec.values\n",
    "    i = 0\n",
    "    while i < len(x): \n",
    "        q=x[i]\n",
    "        r=y[i]\n",
    "        var+=math.pow(q-r,2) #calculate distance between test record and all train records\n",
    "        i=i+1\n",
    "    return math.sqrt(var) #return the distance"
   ]
  },
  {
   "cell_type": "code",
   "execution_count": 97,
   "metadata": {},
   "outputs": [],
   "source": [
    "def UpdateNeighbors(neighbors, item, distance, k):\n",
    "    temp= item.to_dict()\n",
    "    if len(neighbors) < k:   \n",
    "        # If list is not full add the item and sort   \n",
    "        neighbors.append([distance, temp['class']]) \n",
    "        neighbors = sorted(neighbors) \n",
    "    else: \n",
    "        # if list is full check if new distance value is lesser than the maximun value of in the list\n",
    "        if neighbors[-1][0] > distance: \n",
    "            neighbors[-1] = [distance, temp['class']] \n",
    "            neighbors = sorted(neighbors)   \n",
    "    return neighbors "
   ]
  },
  {
   "cell_type": "code",
   "execution_count": 98,
   "metadata": {},
   "outputs": [],
   "source": [
    "def CalculateNeighborsClass(neighbors, k): \n",
    "    count = {}   \n",
    "    for i in range(k): \n",
    "        if neighbors[i][1] not in count: #initialize class count to 1 if its not yet in the list \n",
    "            count[neighbors[i][1]]=1\n",
    "        else:  \n",
    "            count[neighbors[i][1]]+=1 #if the class already exists then increment the count\n",
    "    return count "
   ]
  },
  {
   "cell_type": "code",
   "execution_count": 100,
   "metadata": {},
   "outputs": [],
   "source": [
    "def FindMax(Dict): \n",
    "    maximum = -1\n",
    "    classification = ''   \n",
    "    for key in Dict.keys(): #return the class having maximum count  \n",
    "        if Dict[key] > maximum: \n",
    "            maximum = Dict[key] \n",
    "            classification=key  \n",
    "    return (classification, maximum) "
   ]
  },
  {
   "cell_type": "code",
   "execution_count": 101,
   "metadata": {},
   "outputs": [],
   "source": [
    "def runKNN(rowFeatures,k,train):\n",
    "    neighbors=[] #list to store neighbors of each cluster\n",
    "    for index, row in train.iterrows(): #for each test record against train dataset calculate the following\n",
    "        distance=calculateDist(rowFeatures,row)  #calculate distance of test records against all train records   \n",
    "        neighbors = UpdateNeighbors(neighbors, row, distance, k) #calculate neighbors of test records against all train records \n",
    "    count = CalculateNeighborsClass(neighbors, k) #find count of each class records\n",
    "    return FindMax(count) #find the class with maximum count"
   ]
  },
  {
   "cell_type": "code",
   "execution_count": 102,
   "metadata": {},
   "outputs": [],
   "source": [
    "def knn(k,train,test):\n",
    "    correct=0; #store count of correct predictions\n",
    "    total=(test.shape[0])\n",
    "    for index, row in test.iterrows(): #calculate distance and group each test record\n",
    "        rowClass=row['class'] #store actual classification\n",
    "        rowFeatures=row.iloc[0:4] # retrive features from the record\n",
    "        prediction=runKNN(rowFeatures,k,train) #call knn and find the predicted classification\n",
    "        if prediction[0]==rowClass: #if prediction is equal to actual classification increment the count\n",
    "             correct+=1\n",
    "    accuracy=correct/float(total) #Accuracy is count of correct predictions by total predictions\n",
    "    print(\"When K is \",k,\"prediction accuracy is \",accuracy)\n",
    "        "
   ]
  },
  {
   "cell_type": "code",
   "execution_count": 105,
   "metadata": {},
   "outputs": [
    {
     "name": "stdout",
     "output_type": "stream",
     "text": [
      "When K is  1 prediction accuracy is  0.9666666666666667\n",
      "When K is  2 prediction accuracy is  0.9666666666666667\n",
      "When K is  3 prediction accuracy is  0.9666666666666667\n",
      "When K is  4 prediction accuracy is  0.9666666666666667\n",
      "When K is  5 prediction accuracy is  0.9666666666666667\n",
      "When K is  6 prediction accuracy is  0.9666666666666667\n",
      "When K is  7 prediction accuracy is  0.9333333333333333\n",
      "When K is  8 prediction accuracy is  0.9666666666666667\n",
      "When K is  9 prediction accuracy is  0.9333333333333333\n",
      "When K is  10 prediction accuracy is  0.9333333333333333\n"
     ]
    }
   ],
   "source": [
    "i=1\n",
    "while i < 11: \n",
    "    knn(i,train,test) #Call Knn algorithm for K between 3 to 7\n",
    "    i=i+1"
   ]
  },
  {
   "cell_type": "code",
   "execution_count": null,
   "metadata": {},
   "outputs": [],
   "source": []
  }
 ],
 "metadata": {
  "kernelspec": {
   "display_name": "Python [conda env:tensor]",
   "language": "python",
   "name": "conda-env-tensor-py"
  },
  "language_info": {
   "codemirror_mode": {
    "name": "ipython",
    "version": 3
   },
   "file_extension": ".py",
   "mimetype": "text/x-python",
   "name": "python",
   "nbconvert_exporter": "python",
   "pygments_lexer": "ipython3",
   "version": "3.6.8"
  }
 },
 "nbformat": 4,
 "nbformat_minor": 2
}
